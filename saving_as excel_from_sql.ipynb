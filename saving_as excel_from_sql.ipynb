{
 "cells": [
  {
   "cell_type": "code",
   "execution_count": 2,
   "metadata": {},
   "outputs": [],
   "source": [
    "import mysql.connector\n",
    "import pandas as pd\n",
    "\n",
    "def connect_database():\n",
    "    return mysql.connector.connect(\n",
    "        host=\"localhost\",\n",
    "        user=\"root\",\n",
    "        password=\"1234\",\n",
    "        database=\"gravity_books\"\n",
    "    )"
   ]
  },
  {
   "cell_type": "code",
   "execution_count": 4,
   "metadata": {},
   "outputs": [
    {
     "name": "stdout",
     "output_type": "stream",
     "text": [
      "data from table'['address', 'address_status', 'author', 'book', 'book_author', 'book_language', 'country', 'cust_order', 'customer', 'customer_address', 'order_history', 'order_line', 'order_status', 'publisher', 'shipping_method']' has to import to exceladdress.xlsx\n",
      "data from table'['address', 'address_status', 'author', 'book', 'book_author', 'book_language', 'country', 'cust_order', 'customer', 'customer_address', 'order_history', 'order_line', 'order_status', 'publisher', 'shipping_method']' has to import to exceladdress_status.xlsx\n",
      "data from table'['address', 'address_status', 'author', 'book', 'book_author', 'book_language', 'country', 'cust_order', 'customer', 'customer_address', 'order_history', 'order_line', 'order_status', 'publisher', 'shipping_method']' has to import to excelauthor.xlsx\n",
      "data from table'['address', 'address_status', 'author', 'book', 'book_author', 'book_language', 'country', 'cust_order', 'customer', 'customer_address', 'order_history', 'order_line', 'order_status', 'publisher', 'shipping_method']' has to import to excelbook.xlsx\n",
      "data from table'['address', 'address_status', 'author', 'book', 'book_author', 'book_language', 'country', 'cust_order', 'customer', 'customer_address', 'order_history', 'order_line', 'order_status', 'publisher', 'shipping_method']' has to import to excelbook_author.xlsx\n",
      "data from table'['address', 'address_status', 'author', 'book', 'book_author', 'book_language', 'country', 'cust_order', 'customer', 'customer_address', 'order_history', 'order_line', 'order_status', 'publisher', 'shipping_method']' has to import to excelbook_language.xlsx\n",
      "data from table'['address', 'address_status', 'author', 'book', 'book_author', 'book_language', 'country', 'cust_order', 'customer', 'customer_address', 'order_history', 'order_line', 'order_status', 'publisher', 'shipping_method']' has to import to excelcountry.xlsx\n",
      "data from table'['address', 'address_status', 'author', 'book', 'book_author', 'book_language', 'country', 'cust_order', 'customer', 'customer_address', 'order_history', 'order_line', 'order_status', 'publisher', 'shipping_method']' has to import to excelcust_order.xlsx\n",
      "data from table'['address', 'address_status', 'author', 'book', 'book_author', 'book_language', 'country', 'cust_order', 'customer', 'customer_address', 'order_history', 'order_line', 'order_status', 'publisher', 'shipping_method']' has to import to excelcustomer.xlsx\n",
      "data from table'['address', 'address_status', 'author', 'book', 'book_author', 'book_language', 'country', 'cust_order', 'customer', 'customer_address', 'order_history', 'order_line', 'order_status', 'publisher', 'shipping_method']' has to import to excelcustomer_address.xlsx\n",
      "data from table'['address', 'address_status', 'author', 'book', 'book_author', 'book_language', 'country', 'cust_order', 'customer', 'customer_address', 'order_history', 'order_line', 'order_status', 'publisher', 'shipping_method']' has to import to excelorder_history.xlsx\n",
      "data from table'['address', 'address_status', 'author', 'book', 'book_author', 'book_language', 'country', 'cust_order', 'customer', 'customer_address', 'order_history', 'order_line', 'order_status', 'publisher', 'shipping_method']' has to import to excelorder_line.xlsx\n",
      "data from table'['address', 'address_status', 'author', 'book', 'book_author', 'book_language', 'country', 'cust_order', 'customer', 'customer_address', 'order_history', 'order_line', 'order_status', 'publisher', 'shipping_method']' has to import to excelorder_status.xlsx\n",
      "data from table'['address', 'address_status', 'author', 'book', 'book_author', 'book_language', 'country', 'cust_order', 'customer', 'customer_address', 'order_history', 'order_line', 'order_status', 'publisher', 'shipping_method']' has to import to excelpublisher.xlsx\n",
      "data from table'['address', 'address_status', 'author', 'book', 'book_author', 'book_language', 'country', 'cust_order', 'customer', 'customer_address', 'order_history', 'order_line', 'order_status', 'publisher', 'shipping_method']' has to import to excelshipping_method.xlsx\n"
     ]
    }
   ],
   "source": [
    "def export_tablesto_excel():\n",
    "    try:\n",
    "        connection =connect_database()\n",
    "        cursor =connection.cursor()\n",
    "        tables = ['address','address_status',\n",
    "        'author',\n",
    "        'book',\n",
    "        'book_author',\n",
    "        'book_language',\n",
    "        'country',\n",
    "        'cust_order',\n",
    "        'customer',\n",
    "        'customer_address',\n",
    "        'order_history',\n",
    "        'order_line',\n",
    "        'order_status',\n",
    "        'publisher',\n",
    "        'shipping_method']\n",
    "        for table in tables:\n",
    "            query=f\"select * FROM {table}\"\n",
    "            cursor.execute(query)\n",
    "            rows=cursor.fetchall()\n",
    "            columns=[column[0]for column in cursor.description]\n",
    "            df=pd.DataFrame(rows,columns=columns)\n",
    "            excel_file=f\"{table}.xlsx\"\n",
    "            df.to_excel(excel_file,index=False, engine='openpyxl')\n",
    "            print(f\"data from table'{tables}' has to import to excel{excel_file}\")\n",
    "    except mysql.connector.Error as e:\n",
    "        print(f\"Error:{e}\")\n",
    "    finally:\n",
    "        if connection.is_connected():\n",
    "            cursor.close()\n",
    "            connection.close()\n",
    "export_tablesto_excel()\n",
    "            \n",
    "\n",
    "\n"
   ]
  }
 ],
 "metadata": {
  "kernelspec": {
   "display_name": "Python 3.10.6 64-bit",
   "language": "python",
   "name": "python3"
  },
  "language_info": {
   "codemirror_mode": {
    "name": "ipython",
    "version": 3
   },
   "file_extension": ".py",
   "mimetype": "text/x-python",
   "name": "python",
   "nbconvert_exporter": "python",
   "pygments_lexer": "ipython3",
   "version": "3.10.6"
  },
  "orig_nbformat": 4,
  "vscode": {
   "interpreter": {
    "hash": "4c40ea51a085e2bc64c608250d31a89e1830d58a45f02d5b9ea7a19ad5440c5b"
   }
  }
 },
 "nbformat": 4,
 "nbformat_minor": 2
}
